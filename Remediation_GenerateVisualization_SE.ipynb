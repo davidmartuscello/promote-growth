{
 "cells": [
  {
   "cell_type": "code",
   "execution_count": 128,
   "metadata": {},
   "outputs": [],
   "source": [
    "from bokeh.io import show, output_file\n",
    "from bokeh.plotting import figure\n",
    "from bokeh.palettes import Spectral5\n",
    "from bokeh.transform import factor_cmap\n",
    "\n",
    "import pandas as pd"
   ]
  },
  {
   "cell_type": "code",
   "execution_count": 129,
   "metadata": {},
   "outputs": [],
   "source": [
    "df_full = pd.read_csv(\"coalesce3.csv\", names=[\"Username\", \"SimilarityScore\", \"Site\"])\n",
    "\n",
    "df_health_full = df_full[df_full['Site'] == \"health\"] \n",
    "df_wood_full = df_full[df_full['Site'] == \"woodworking\"] "
   ]
  },
  {
   "cell_type": "code",
   "execution_count": 130,
   "metadata": {},
   "outputs": [],
   "source": [
    "#index_cmap = factor_cmap('Site_Username', palette=Spectral5, factors=sorted(df.Site.unique()), end=1)\n",
    "\n",
    "\n",
    "\n",
    "#p = figure(plot_height = 600, plot_width = 600,\n",
    "#        title = 'Histogram of Similarity Scores',\n",
    "#        x_range = range(len(group.Site)),\n",
    "#        tooltips=[(\"SimilarityScore\", \"@SimilarityScore_mean\"), (\"Site, Username\", \"@Site_Username\")]\n",
    "#          )\n",
    "\n",
    "#p.vbar(x='Site_Username', top='SimilarityScore_mean', width=1, source=group, line_color=\"white\" , fill_color=index_cmap)#fill_color=index_cmap,\n",
    "\n"
   ]
  },
  {
   "cell_type": "code",
   "execution_count": 131,
   "metadata": {},
   "outputs": [],
   "source": [
    "def generateGraph(df):\n",
    "    group = df.drop_duplicates(subset = ['Username'])#.groupby(['Site', 'Username'])\n",
    "    \n",
    "    p = figure(plot_height = 600, plot_width = 600,\n",
    "        title = 'Histogram of Similarity Scores',\n",
    "        x_range = group.Username,\n",
    "          )\n",
    "\n",
    "    p.vbar(x='Username', top='SimilarityScore', width=1, source=group, line_color=\"white\" )#, fill_color=index_cmap)#fill_color=index_cmap,\n",
    "\n",
    "    \n",
    "    p.y_range.start = 0\n",
    "    p.x_range.range_padding = 0.05\n",
    "    p.xgrid.grid_line_color = None\n",
    "    p.xaxis.axis_label = \"Username\"\n",
    "    p.xaxis.major_label_orientation = 1.2\n",
    "    p.outline_line_color = None\n",
    "    \n",
    "    show(p)\n",
    "\n",
    "\n"
   ]
  },
  {
   "cell_type": "code",
   "execution_count": 137,
   "metadata": {},
   "outputs": [],
   "source": [
    "\n",
    "#Threshold for similarity scores being displayed\n",
    "health_threshold = 0.2\n",
    "df_health = df_health_full[df_health_full['SimilarityScore'] > health_threshold]  \n",
    "\n",
    "output_file(\"hist_health.html\")\n",
    "generateGraph(df_health)\n",
    "\n",
    "#Threshold for similarity scores being displayed\n",
    "wood_threshold = 0.1\n",
    "df_wood = df_wood_full[df_wood_full['SimilarityScore'] > wood_threshold]  \n",
    "df_wood = df_wood[df_wood['Username'] != \"PROPOSAL\"]  \n",
    "df_wood = df_wood.dropna()\n",
    "\n",
    "output_file(\"hist_wood.html\")\n",
    "generateGraph(df_wood)\n",
    "\n",
    "\n",
    "df_health.to_html('healthtable.html')\n",
    "df_wood.to_html('woodtable.html')"
   ]
  },
  {
   "cell_type": "code",
   "execution_count": 138,
   "metadata": {},
   "outputs": [],
   "source": [
    "filenames = ['header1.html','hist_health.html','header1a.html','hist_wood.html','header2.html','healthtable.html','header2a.html', 'woodtable.html']\n",
    "with open('./output_se.html', 'w') as outfile:\n",
    "    for fname in filenames:\n",
    "        with open(fname) as infile:\n",
    "            for line in infile:\n",
    "                outfile.write(line)"
   ]
  },
  {
   "cell_type": "code",
   "execution_count": null,
   "metadata": {},
   "outputs": [],
   "source": []
  }
 ],
 "metadata": {
  "kernelspec": {
   "display_name": "Python 3",
   "language": "python",
   "name": "python3"
  },
  "language_info": {
   "codemirror_mode": {
    "name": "ipython",
    "version": 3
   },
   "file_extension": ".py",
   "mimetype": "text/x-python",
   "name": "python",
   "nbconvert_exporter": "python",
   "pygments_lexer": "ipython3",
   "version": "3.7.1"
  }
 },
 "nbformat": 4,
 "nbformat_minor": 2
}
